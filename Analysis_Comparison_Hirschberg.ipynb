{
  "nbformat": 4,
  "nbformat_minor": 0,
  "metadata": {
    "colab": {
      "name": "Hirschberg.ipynb",
      "provenance": [],
      "collapsed_sections": []
    },
    "kernelspec": {
      "name": "python3",
      "display_name": "Python 3"
    },
    "language_info": {
      "name": "python"
    }
  },
  "cells": [
    {
      "cell_type": "code",
      "metadata": {
        "id": "Y9ZWDoAMQhxX",
        "colab": {
          "base_uri": "https://localhost:8080/"
        },
        "outputId": "2b4fa167-ae9e-4907-fc57-f317598e45cc"
      },
      "source": [
        "import numpy as np\n",
        "!pip install memory_profiler\n",
        "%load_ext memory_profiler"
      ],
      "execution_count": 47,
      "outputs": [
        {
          "output_type": "stream",
          "name": "stdout",
          "text": [
            "Requirement already satisfied: memory_profiler in /usr/local/lib/python3.7/dist-packages (0.59.0)\n",
            "Requirement already satisfied: psutil in /usr/local/lib/python3.7/dist-packages (from memory_profiler) (5.4.8)\n",
            "The memory_profiler extension is already loaded. To reload it, use:\n",
            "  %reload_ext memory_profiler\n"
          ]
        }
      ]
    },
    {
      "cell_type": "code",
      "metadata": {
        "id": "W10sN6MUSAiW"
      },
      "source": [
        "keys = ['A', 'C', 'T', 'G', '-']\n",
        "delta = {}\n",
        "for i in range(len(keys)):\n",
        "    delta[keys[i]] = {k : v for (k,v) in zip(keys, [1 if keys[i] == keys[j]  else -1 for j in range(len(keys))])}\n",
        "    \n",
        "# pointers\n",
        "UP = (-1, 0)\n",
        "LEFT = (0, -1)\n",
        "TOPLEFT = (-1, -1)\n",
        "ORIGIN = (0, 0)"
      ],
      "execution_count": 48,
      "outputs": []
    },
    {
      "cell_type": "code",
      "metadata": {
        "id": "kbfMHFaH2wga",
        "colab": {
          "base_uri": "https://localhost:8080/"
        },
        "outputId": "2e33ddc7-e4b3-4d4b-edde-944910f99760"
      },
      "source": [
        "Sigma = ['A', 'C', 'T', 'G']\n",
        "seqLength = 100\n",
        "seqA = np.random.choice(Sigma,seqLength)\n",
        "seqB = np.random.choice(Sigma,seqLength)\n",
        "# seqA,seqB\n",
        "len(seqA),len(seqB)"
      ],
      "execution_count": 49,
      "outputs": [
        {
          "output_type": "execute_result",
          "data": {
            "text/plain": [
              "(100, 100)"
            ]
          },
          "metadata": {},
          "execution_count": 49
        }
      ]
    },
    {
      "cell_type": "markdown",
      "metadata": {
        "id": "_MXGc_yESQiu"
      },
      "source": [
        "## Needleman"
      ]
    },
    {
      "cell_type": "code",
      "metadata": {
        "id": "EZCDxnk0SPaX"
      },
      "source": [
        "def traceback_global(v, w, pointers):\n",
        "    i,j = len(v), len(w)\n",
        "    new_v = []\n",
        "    new_w = []\n",
        "    while True:\n",
        "        di, dj = pointers[i][j]\n",
        "        if (di,dj) == LEFT:\n",
        "            new_v.append('-')\n",
        "            new_w.append(w[j-1])\n",
        "        elif (di,dj) == UP:\n",
        "            new_v.append(v[i-1])\n",
        "            new_w.append('-')\n",
        "        elif (di,dj) == TOPLEFT:\n",
        "            new_v.append(v[i-1])\n",
        "            new_w.append(w[j-1])\n",
        "        i, j = i + di, j + dj\n",
        "        if (i <= 0 and j <= 0):\n",
        "            break\n",
        "    return ''.join(new_v[::-1])+'\\n'+''.join(new_w[::-1])\n",
        "    \n",
        "\n",
        "def global_align(v, w, delta):\n",
        "    \"\"\"\n",
        "    Returns the score of the maximum scoring alignment of the strings v and w, as well as the actual alignment as \n",
        "    computed by traceback_global. \n",
        "    \n",
        "    :param: v\n",
        "    :param: w\n",
        "    :param: delta\n",
        "    \"\"\"\n",
        "    M = np.zeros((len(v)+1,len(w)+1))\n",
        "    pointers = [[ORIGIN for j in range(len(w)+1)] for i in range(len(v)+1)]\n",
        "    score, alignment = None, None\n",
        "    for i in range(len(v)+1):\n",
        "      for j in range(len(w)+1):\n",
        "        if i == 0 and j == 0:\n",
        "          continue\n",
        "        if i == 0 and j > 0:\n",
        "          M[i][j] = M[i][j-1] + delta['-'][w[j-1]]\n",
        "          pointers[i][j] = LEFT\n",
        "          continue\n",
        "        if j == 0 and i > 0:\n",
        "          M[i][j] = M[i-1][j] + delta[v[i-1]]['-']\n",
        "          pointers[i][j] = UP\n",
        "          continue\n",
        "        up = M[i-1][j] + delta[v[i-1]]['-']\n",
        "        left = M[i][j-1] + delta['-'][w[j-1]]\n",
        "        topleft = M[i-1][j-1] + delta[v[i-1]][w[j-1]]\n",
        "        if left >= up and left >= topleft:\n",
        "          M[i][j] = left\n",
        "          pointers[i][j] = LEFT\n",
        "        elif up >= left and up >= topleft:\n",
        "          M[i][j] = up\n",
        "          pointers[i][j] = UP\n",
        "        else:\n",
        "          M[i][j] = topleft\n",
        "          pointers[i][j] = TOPLEFT\n",
        "    score = M[i][j]\n",
        "    alignment = traceback_global(v,w, pointers)\n",
        "    return score, alignment"
      ],
      "execution_count": 50,
      "outputs": []
    },
    {
      "cell_type": "code",
      "metadata": {
        "colab": {
          "base_uri": "https://localhost:8080/"
        },
        "id": "Tuak45xYSnec",
        "outputId": "86d09cf3-b341-41a1-8d10-cc7cf285829a"
      },
      "source": [
        "%prun score, alignment = global_align(seqA, seqB, delta)\n",
        "print(score)\n",
        "print(alignment)"
      ],
      "execution_count": 51,
      "outputs": [
        {
          "output_type": "stream",
          "name": "stdout",
          "text": [
            " 1.0\n",
            "AGGTACTCCA-GCACCCGGTAAGAGTG-AGGTCTGGCGCACAT--AAGG-CCTA-CAATGAATGAC-TCTG-TCATGCG-AA-C-ATCG-GC--A-GT--TCCAA--TAT-CAATTTCGC-\n",
            "-G-T-C-C-ATGCGT--GGTC-G-GTGTAA-T-T--C-CTTTTTTAACTTCCTAGCA-T-AATTACGTCCACTC-T-CGGAAACTAT-GAGCTTATGTGGTT-AGCGTGTACAATAA-GTA\n"
          ]
        }
      ]
    },
    {
      "cell_type": "markdown",
      "metadata": {
        "id": "CAhN8RZpTjKR"
      },
      "source": [
        "## Hirschberg"
      ]
    },
    {
      "cell_type": "code",
      "metadata": {
        "id": "fubDM9QaStLQ"
      },
      "source": [
        "def last_col(v, w, delta):\n",
        "    \"\"\"\n",
        "    Returns the scores of the last column of alignment of the strings v and w\n",
        "    \n",
        "    :param: v\n",
        "    :param: w\n",
        "    :param: delta\n",
        "    \"\"\"\n",
        "    pre_col = np.zeros(len(v)+1,int)\n",
        "    cur_col = np.zeros(len(v)+1,int)\n",
        "\n",
        "    for i in range(1,len(v)+1):\n",
        "      pre_col[i] = pre_col[i-1] + delta[v[i-1]]['-']\n",
        "\n",
        "    for j in range(1,len(w)+1):\n",
        "      cur_col[0] = pre_col[0] + delta['-'][w[j-1]]\n",
        "      for i in range(1,len(v)+1):\n",
        "        up = cur_col[i-1] + delta[v[i-1]]['-']\n",
        "        left = pre_col[i] + delta['-'][w[j-1]]\n",
        "        topleft = pre_col[i-1] + delta[v[i-1]][w[j-1]]\n",
        "        cur_col[i] = max(up,left,topleft)\n",
        "      # print(pre_col)\n",
        "      # print(cur_col)\n",
        "      pre_col = cur_col\n",
        "      cur_col = np.zeros(len(v)+1)\n",
        "    return pre_col"
      ],
      "execution_count": 52,
      "outputs": []
    },
    {
      "cell_type": "code",
      "metadata": {
        "colab": {
          "base_uri": "https://localhost:8080/"
        },
        "id": "ZdJBqpI4IC0b",
        "outputId": "a6ad34ed-2fb1-4c32-9238-fc1a0dcfb879"
      },
      "source": [
        "col = last_col(\"ATGTC\", \"AT\", delta)\n",
        "print(col)"
      ],
      "execution_count": 53,
      "outputs": [
        {
          "output_type": "stream",
          "name": "stdout",
          "text": [
            "[-2.  0.  2.  1.  0. -1.]\n"
          ]
        }
      ]
    },
    {
      "cell_type": "code",
      "metadata": {
        "id": "OQJGHpxTIZaD"
      },
      "source": [
        "def Hirschberg(v,w,delta):\n",
        "  def HB(i,j,k,l):\n",
        "    if l-j <= 1: return\n",
        "    mid = j + (l-j) // 2\n",
        "    prefix = last_col(v[i:k],w[j:mid],delta)\n",
        "    suffix = last_col(v[i:k][::-1],w[mid:l][::-1],delta)\n",
        "    i_star = i + np.argmax(prefix + suffix[::-1])\n",
        "    align.append((i_star,mid))\n",
        "    HB(i,j,i_star,mid)\n",
        "    HB(i_star,mid,k,l)\n",
        "    \n",
        "  align = [(len(v),len(w))]\n",
        "  HB(0,0,len(v),len(w))\n",
        "  align.sort()\n",
        "  \n",
        "  score = 0.0\n",
        "  new_v = []\n",
        "  new_w = []\n",
        "  prev = (0,0)\n",
        "  for (i,j) in align:\n",
        "    if tuple(map(lambda x,y:x-y, prev,(i,j))) == LEFT:\n",
        "      score += delta['-'][w[j-1]]\n",
        "      new_v.append('-')\n",
        "      new_w.append(w[j-1])\n",
        "    elif tuple(map(lambda x,y:x-y, prev,(i,j))) == UP:\n",
        "      score += delta[v[i-1]]['-']\n",
        "      new_v.append(v[i-1])\n",
        "      new_w.append('-')\n",
        "    elif tuple(map(lambda x,y:x-y, prev,(i,j))) == TOPLEFT:\n",
        "      score += delta[v[i-1]][w[j-1]]\n",
        "      new_v.append(v[i-1])\n",
        "      new_w.append(w[j-1])\n",
        "    else:\n",
        "      while tuple(map(lambda x,y:x-y, prev,(i,j))) != TOPLEFT:\n",
        "        score += delta[v[prev[0]]]['-']\n",
        "        new_v.append(v[prev[0]])\n",
        "        new_w.append('-')\n",
        "        prev = (prev[0]+1,prev[1])\n",
        "        # print(score)\n",
        "      score += delta[v[i-1]][w[j-1]]\n",
        "      new_v.append(v[i-1])\n",
        "      new_w.append(w[j-1])      \n",
        "    prev = (i,j)\n",
        "    # print(score)\n",
        "  return score, ''.join(new_v)+'\\n'+''.join(new_w)"
      ],
      "execution_count": 54,
      "outputs": []
    },
    {
      "cell_type": "code",
      "metadata": {
        "colab": {
          "base_uri": "https://localhost:8080/"
        },
        "id": "VLcT7TGJNceB",
        "outputId": "5afd75bf-c3ce-4e9b-97ab-603edc9c3c19"
      },
      "source": [
        "%prun score,alignment = Hirschberg(seqA, seqB, delta)\n",
        "print(score)\n",
        "print(alignment)"
      ],
      "execution_count": 55,
      "outputs": [
        {
          "output_type": "stream",
          "name": "stdout",
          "text": [
            " 1.0\n",
            "AGGTACTCCA-GCACCCGGTAAGAGTG-AGGTCTGGCGCACATAA-GGCCTA-CAATGAATGAC-T-CTGTCAT-GCG-AAC-ATCG-GC--A----GTT--CCAATATCAATTTCG-C\n",
            "-G-T-C-C-ATGCGT--GGTC-G-GTGTAATTC---CTTTTTTAACTTCCTAGCA-T-AATTACGTCCACTC-TCG-GAAACTAT-GAGCTTATGTGGTTAGCGTGTA-CAATAA-GTA\n"
          ]
        }
      ]
    },
    {
      "cell_type": "code",
      "metadata": {
        "id": "eHK1m4Gjpprd"
      },
      "source": [
        ""
      ],
      "execution_count": 55,
      "outputs": []
    },
    {
      "cell_type": "markdown",
      "source": [
        "## Memory Usage Trace with %mprun"
      ],
      "metadata": {
        "id": "jEA1swzijLZM"
      }
    },
    {
      "cell_type": "code",
      "source": [
        "Sigma = ['A', 'C', 'T', 'G']\n",
        "seqLength = 100\n",
        "seqA = np.random.choice(Sigma,seqLength)\n",
        "seqB = np.random.choice(Sigma,seqLength)\n",
        "# seqA,seqB\n",
        "len(seqA),len(seqB)"
      ],
      "metadata": {
        "colab": {
          "base_uri": "https://localhost:8080/"
        },
        "id": "Otk-17lUj6Z3",
        "outputId": "48791972-a843-492c-9cef-3912bc087218"
      },
      "execution_count": 56,
      "outputs": [
        {
          "output_type": "execute_result",
          "data": {
            "text/plain": [
              "(100, 100)"
            ]
          },
          "metadata": {},
          "execution_count": 56
        }
      ]
    },
    {
      "cell_type": "code",
      "source": [
        "from Needleman import global_align\n",
        "%mprun -f global_align global_align(seqA, seqB, delta)"
      ],
      "metadata": {
        "colab": {
          "base_uri": "https://localhost:8080/"
        },
        "id": "jqeLWyj-e8Yy",
        "outputId": "54015307-07ba-4fb2-b467-4c911b73a8cb"
      },
      "execution_count": 57,
      "outputs": [
        {
          "output_type": "stream",
          "name": "stdout",
          "text": [
            "The length of the input sequences are: n =  100 , m =  100\n",
            "\n"
          ]
        }
      ]
    },
    {
      "cell_type": "code",
      "source": [
        "from Hirschberg import Hirschberg\n",
        "%mprun -f Hirschberg Hirschberg(seqA, seqB, delta)"
      ],
      "metadata": {
        "colab": {
          "base_uri": "https://localhost:8080/"
        },
        "id": "kFIrJWGhjU_a",
        "outputId": "692655e1-1052-4c01-aaec-5440b8ddc51f"
      },
      "execution_count": 58,
      "outputs": [
        {
          "output_type": "stream",
          "name": "stdout",
          "text": [
            "The length of the input sequences are: n =  100 , m =  100\n",
            "\n"
          ]
        }
      ]
    },
    {
      "cell_type": "code",
      "source": [
        ""
      ],
      "metadata": {
        "id": "PEbehY85jZx5"
      },
      "execution_count": null,
      "outputs": []
    }
  ]
}